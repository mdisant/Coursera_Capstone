{
    "cells": [
        {
            "cell_type": "markdown",
            "metadata": {
                "collapsed": true
            },
            "source": "# Data\n### By Michael DiSanto"
        },
        {
            "cell_type": "markdown",
            "metadata": {},
            "source": "#### Describe the data that you will be using to solve the problem or execute your idea. Remember that you will need to use the Foursquare location data to solve the problem or execute your idea. You can absolutely use other datasets in combination with the Foursquare location data. So make sure that you provide adequate explanation and discussion, with examples, of the data that you will be using, even if it is only Foursquare location data."
        },
        {
            "cell_type": "markdown",
            "metadata": {},
            "source": "The data I will be using to solve the problem of the ideal location for a coffee shop is the population and average salary of the area of interest in the city of Toronto. This will be helpful because we will be able to see where the people who would be most willing to pay for the high end coffee are located and maximize our chances of having random customers walk in to purchase something merely based off of the amount of people walking by the shop."
        }
    ],
    "metadata": {
        "kernelspec": {
            "display_name": "Python 3.7",
            "language": "python",
            "name": "python3"
        },
        "language_info": {
            "codemirror_mode": {
                "name": "ipython",
                "version": 3
            },
            "file_extension": ".py",
            "mimetype": "text/x-python",
            "name": "python",
            "nbconvert_exporter": "python",
            "pygments_lexer": "ipython3",
            "version": "3.7.9"
        }
    },
    "nbformat": 4,
    "nbformat_minor": 1
}