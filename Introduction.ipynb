{
    "cells": [
        {
            "cell_type": "markdown",
            "metadata": {
                "collapsed": true
            },
            "source": "# Introduction/Business Plan\n### By Michael DiSanto"
        },
        {
            "cell_type": "markdown",
            "metadata": {},
            "source": "#### Clearly define a problem or an idea of your choice, where you would need to leverage the Foursquare location data to solve or execute. Remember that data science problems always target an audience and are meant to help a group of stakeholders solve a problem, so make sure that you explicitly describe your audience and why they would care about your problem."
        },
        {
            "cell_type": "markdown",
            "metadata": {},
            "source": "The problem at hand is to determine the ideal location to place a coffee shop in the city of Toronto. The analysis of this problem is important to maximize traffic and revenue to this newly placed coffee shop. The target audience of this problem are people interested in opening up a new coffee shop and they would care about the ideal location so that they can maximize the efficiency and profitability of this new store."
        }
    ],
    "metadata": {
        "kernelspec": {
            "display_name": "Python 3.7",
            "language": "python",
            "name": "python3"
        },
        "language_info": {
            "codemirror_mode": {
                "name": "ipython",
                "version": 3
            },
            "file_extension": ".py",
            "mimetype": "text/x-python",
            "name": "python",
            "nbconvert_exporter": "python",
            "pygments_lexer": "ipython3",
            "version": "3.7.9"
        }
    },
    "nbformat": 4,
    "nbformat_minor": 1
}